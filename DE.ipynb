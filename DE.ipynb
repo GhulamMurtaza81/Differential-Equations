{
  "cells": [
    {
      "cell_type": "markdown",
      "metadata": {
        "id": "SYgM8E5Bjr3-"
      },
      "source": [
        "# **DIFFERENTIAL EQUATIONS WITH PYTHON**\n",
        "                        \n",
        "                     Dr. GHULAM MURTAZA\n",
        "### **Contents**\n",
        "\n",
        "*   Solving differential equations using Sympy\n",
        "*   Solving differential equation using Laplace tarnsformation \n",
        "*   Initial value problems using scipy\n",
        "\n",
        "*   Boundary Value problems using scipy\n",
        "\n",
        "\n",
        "\n",
        "\n",
        "\n",
        "\n",
        "\n",
        "\n"
      ]
    },
    {
      "cell_type": "markdown",
      "metadata": {
        "id": "P0umcdESgzde"
      },
      "source": [
        "### **Solving differential equations using Sympy**\n",
        "We start with a very simple example:\n",
        "$$y''+2y'+y=0$$\n"
      ]
    },
    {
      "cell_type": "code",
      "execution_count": null,
      "metadata": {
        "id": "7bjDnJETqezJ"
      },
      "outputs": [],
      "source": [
        "from sympy import *       #symbols, Function,Eq, dsolve,checkodesol,sin,pi,laplace_transform,inverse_laplace_transform,lambdify\n",
        "from matplotlib import pyplot as plt\n",
        "import numpy as np"
      ]
    },
    {
      "cell_type": "code",
      "execution_count": null,
      "metadata": {
        "id": "0vw0Tf2z4t_w"
      },
      "outputs": [],
      "source": [
        "x = symbols('x')\n",
        "y = Function('y')(x)\n",
        "yp = y.diff(x)\n",
        "ypp = yp.diff(x) # or ypp = y.diff((x, 2))\n",
        "yppp = ypp.diff(x)"
      ]
    },
    {
      "cell_type": "code",
      "execution_count": null,
      "metadata": {
        "colab": {
          "base_uri": "https://localhost:8080/",
          "height": 55
        },
        "id": "-WJlWczSw2IO",
        "outputId": "3de51b34-1050-43c2-94ee-bbe5229c10e5"
      },
      "outputs": [
        {
          "output_type": "stream",
          "name": "stdout",
          "text": [
            "solution: Eq(y(x), (C1 + C2*x)*exp(-x))\n"
          ]
        },
        {
          "output_type": "execute_result",
          "data": {
            "text/plain": [
              "Eq(y(x), (C1 + C2*x)*exp(-x))"
            ],
            "text/latex": "$\\displaystyle y{\\left(x \\right)} = \\left(C_{1} + C_{2} x\\right) e^{- x}$"
          },
          "metadata": {},
          "execution_count": 3
        }
      ],
      "source": [
        "\n",
        "eq = ypp + 2*yp + y\n",
        "solution=dsolve(eq, y)\n",
        "print(\"solution:\",solution)\n",
        "solution\n"
      ]
    },
    {
      "cell_type": "code",
      "execution_count": null,
      "metadata": {
        "colab": {
          "base_uri": "https://localhost:8080/"
        },
        "id": "y-ghbLe0fPew",
        "outputId": "b4a82bd2-96f0-427d-fe68-9477b899ebb3"
      },
      "outputs": [
        {
          "output_type": "stream",
          "name": "stdout",
          "text": [
            "solution1: Eq(y(x), (C1 + C2*x)*exp(-x))\n"
          ]
        }
      ],
      "source": [
        "eq1=Eq(ypp + 2*yp + y,0)\n",
        "solution1=dsolve(eq1, y)\n",
        "print(\"solution1:\",solution1)\n"
      ]
    },
    {
      "cell_type": "code",
      "execution_count": null,
      "metadata": {
        "colab": {
          "base_uri": "https://localhost:8080/"
        },
        "id": "UAEjqAvnfZao",
        "outputId": "fdb3f491-ca81-40a1-a5d6-5e4f94a0aa9d"
      },
      "outputs": [
        {
          "name": "stdout",
          "output_type": "stream",
          "text": [
            "right hand side of solution: y(x)\n",
            "left hand side of solution: (C1 + C2*x)*exp(-x)\n"
          ]
        }
      ],
      "source": [
        "print(\"right hand side of solution:\",solution.lhs)\n",
        "print(\"left hand side of solution:\",solution.rhs)\n",
        "#solution.rhs"
      ]
    },
    {
      "cell_type": "code",
      "execution_count": null,
      "metadata": {
        "colab": {
          "base_uri": "https://localhost:8080/"
        },
        "id": "bLG8L56lgpvh",
        "outputId": "3735dc92-802d-415a-811c-91a65773293d"
      },
      "outputs": [
        {
          "data": {
            "text/plain": [
              "(True, 0)"
            ]
          },
          "execution_count": 7,
          "metadata": {},
          "output_type": "execute_result"
        }
      ],
      "source": [
        "checkodesol(eq,solution)"
      ]
    },
    {
      "cell_type": "markdown",
      "metadata": {
        "id": "jOZLZroZhWQp"
      },
      "source": [
        "Now we take a nonhomegenous equation:\n",
        "$$y''+2y'+y=sin(2x)$$"
      ]
    },
    {
      "cell_type": "code",
      "execution_count": null,
      "metadata": {
        "colab": {
          "base_uri": "https://localhost:8080/",
          "height": 53
        },
        "id": "2WFyDq3jiUez",
        "outputId": "722301f4-d324-4306-9887-0b1c6b5db124"
      },
      "outputs": [
        {
          "output_type": "execute_result",
          "data": {
            "text/plain": [
              "Eq(y(x), (C1 + C2*x)*exp(-x) - 3*sin(2*x)/25 - 4*cos(2*x)/25)"
            ],
            "text/latex": "$\\displaystyle y{\\left(x \\right)} = \\left(C_{1} + C_{2} x\\right) e^{- x} - \\frac{3 \\sin{\\left(2 x \\right)}}{25} - \\frac{4 \\cos{\\left(2 x \\right)}}{25}$"
          },
          "metadata": {},
          "execution_count": 5
        }
      ],
      "source": [
        "eq1=Eq(ypp + 2*yp + y,sin(2*x))\n",
        "solution=dsolve(eq1, y)\n",
        "solution\n"
      ]
    },
    {
      "cell_type": "code",
      "execution_count": null,
      "metadata": {
        "colab": {
          "base_uri": "https://localhost:8080/"
        },
        "id": "7LMp8Ca3kc1j",
        "outputId": "9c41a736-37ac-4d4c-a337-0236ee23f748"
      },
      "outputs": [
        {
          "data": {
            "text/plain": [
              "(True, 0)"
            ]
          },
          "execution_count": 9,
          "metadata": {},
          "output_type": "execute_result"
        }
      ],
      "source": [
        "checkodesol(eq1,solution)"
      ]
    },
    {
      "cell_type": "markdown",
      "metadata": {
        "id": "UyuG3PFfnRWO"
      },
      "source": [
        "Another example:\n",
        "$$y''-4y=12x$$"
      ]
    },
    {
      "cell_type": "code",
      "execution_count": null,
      "metadata": {
        "colab": {
          "base_uri": "https://localhost:8080/",
          "height": 38
        },
        "id": "8cZwLlaenWC8",
        "outputId": "3870c436-0cdb-4f53-beaa-0fee6d17df01"
      },
      "outputs": [
        {
          "output_type": "execute_result",
          "data": {
            "text/plain": [
              "Eq(y(x), C1*exp(-2*x) + C2*exp(2*x) - 3*x)"
            ],
            "text/latex": "$\\displaystyle y{\\left(x \\right)} = C_{1} e^{- 2 x} + C_{2} e^{2 x} - 3 x$"
          },
          "metadata": {},
          "execution_count": 6
        }
      ],
      "source": [
        "eq=Eq(ypp -4*y,12*x)\n",
        "solution=dsolve(eq, y)\n",
        "solution"
      ]
    },
    {
      "cell_type": "code",
      "execution_count": null,
      "metadata": {
        "colab": {
          "base_uri": "https://localhost:8080/"
        },
        "id": "KFtyBjSgcKww",
        "outputId": "c9d469d3-95e1-4c99-decd-a282d1b36200"
      },
      "outputs": [
        {
          "output_type": "execute_result",
          "data": {
            "text/plain": [
              "('factorable',\n",
              " 'nth_algebraic',\n",
              " 'separable',\n",
              " '1st_exact',\n",
              " '1st_linear',\n",
              " 'Bernoulli',\n",
              " 'Riccati_special_minus2',\n",
              " '1st_homogeneous_coeff_best',\n",
              " '1st_homogeneous_coeff_subs_indep_div_dep',\n",
              " '1st_homogeneous_coeff_subs_dep_div_indep',\n",
              " 'almost_linear',\n",
              " 'linear_coefficients',\n",
              " 'separable_reduced',\n",
              " '1st_power_series',\n",
              " 'lie_group',\n",
              " 'nth_linear_constant_coeff_homogeneous',\n",
              " 'nth_linear_euler_eq_homogeneous',\n",
              " 'nth_linear_constant_coeff_undetermined_coefficients',\n",
              " 'nth_linear_euler_eq_nonhomogeneous_undetermined_coefficients',\n",
              " 'nth_linear_constant_coeff_variation_of_parameters',\n",
              " 'nth_linear_euler_eq_nonhomogeneous_variation_of_parameters',\n",
              " 'Liouville',\n",
              " '2nd_linear_airy',\n",
              " '2nd_linear_bessel',\n",
              " '2nd_hypergeometric',\n",
              " '2nd_hypergeometric_Integral',\n",
              " 'nth_order_reducible',\n",
              " '2nd_power_series_ordinary',\n",
              " '2nd_power_series_regular',\n",
              " 'nth_algebraic_Integral',\n",
              " 'separable_Integral',\n",
              " '1st_exact_Integral',\n",
              " '1st_linear_Integral',\n",
              " 'Bernoulli_Integral',\n",
              " '1st_homogeneous_coeff_subs_indep_div_dep_Integral',\n",
              " '1st_homogeneous_coeff_subs_dep_div_indep_Integral',\n",
              " 'almost_linear_Integral',\n",
              " 'linear_coefficients_Integral',\n",
              " 'separable_reduced_Integral',\n",
              " 'nth_linear_constant_coeff_variation_of_parameters_Integral',\n",
              " 'nth_linear_euler_eq_nonhomogeneous_variation_of_parameters_Integral',\n",
              " 'Liouville_Integral')"
            ]
          },
          "metadata": {},
          "execution_count": 9
        }
      ],
      "source": [
        "#classify_ode(eq, y)\n",
        "#dsolve(eq, y, hint=\"all\")\n",
        "from sympy.solvers import ode\n",
        "ode.allhints"
      ]
    },
    {
      "cell_type": "markdown",
      "metadata": {
        "id": "q7kRU9P9TgMt"
      },
      "source": [
        "**Keyword arguments: hint** \"is the solving method that you want dsolve to use.\"\n",
        "\n",
        "\n",
        " For example, if you know that given differential equation is a separable equation, you can use keyword `hint='separable'` to force dsolve to resolve it as a separable equation: For this, see the following example\n",
        " $$\\frac{dx}{dy}+2xy^2=0$$"
      ]
    },
    {
      "cell_type": "code",
      "execution_count": null,
      "metadata": {
        "colab": {
          "base_uri": "https://localhost:8080/",
          "height": 54
        },
        "id": "LfRzTv54Tcp7",
        "outputId": "d76739d5-4727-4452-9265-40f8e6998507"
      },
      "outputs": [
        {
          "output_type": "execute_result",
          "data": {
            "text/plain": [
              "Eq(y(x), 1/(C1 + x**2))"
            ],
            "text/latex": "$\\displaystyle y{\\left(x \\right)} = \\frac{1}{C_{1} + x^{2}}$"
          },
          "metadata": {},
          "execution_count": 12
        }
      ],
      "source": [
        "dsolve(yp+2*x*y**2,y, hint='separable')"
      ]
    },
    {
      "cell_type": "code",
      "execution_count": null,
      "metadata": {
        "colab": {
          "base_uri": "https://localhost:8080/",
          "height": 58
        },
        "id": "GDPFkhscX93t",
        "outputId": "b1b61ec2-486a-416a-c09d-b176e34d712e"
      },
      "outputs": [
        {
          "output_type": "execute_result",
          "data": {
            "text/plain": [
              "Eq(y(x), (C2*sin(2*x) + (C1 + log(sin(2*x) - 1)/8 - log(sin(2*x) + 1)/8)*cos(2*x))*exp(x))"
            ],
            "text/latex": "$\\displaystyle y{\\left(x \\right)} = \\left(C_{2} \\sin{\\left(2 x \\right)} + \\left(C_{1} + \\frac{\\log{\\left(\\sin{\\left(2 x \\right)} - 1 \\right)}}{8} - \\frac{\\log{\\left(\\sin{\\left(2 x \\right)} + 1 \\right)}}{8}\\right) \\cos{\\left(2 x \\right)}\\right) e^{x}$"
          },
          "metadata": {},
          "execution_count": 14
        }
      ],
      "source": [
        "dsolve(Eq(ypp -2*yp+5*y,exp(x)*tan(2*x)),y)"
      ]
    },
    {
      "cell_type": "markdown",
      "metadata": {
        "id": "BPPrYUBUmyCc"
      },
      "source": [
        "**Initial value problem:** An initial value problem (IVP) is a differential equation with a set of constraints at the initial point.$$\\frac{d^{n}y}{dx^{n}}=f(x,y,y^{\\prime },\\cdots ,y^{(n-1)})$$ $$y(x_{0})=y_{0},y(x_{0})=y_{1},\\cdots ,y^{(n-1)}(x_{0})=y_{n-1}.$$\n",
        "Example:$$y''-4y=12t, y(0)=4, y'(0)=1$$"
      ]
    },
    {
      "cell_type": "code",
      "execution_count": null,
      "metadata": {
        "colab": {
          "base_uri": "https://localhost:8080/",
          "height": 55
        },
        "id": "j7kM5W1ZmxD2",
        "outputId": "e5aa9ed7-99ee-42c8-ef2d-1b95e231f034"
      },
      "outputs": [
        {
          "name": "stdout",
          "output_type": "stream",
          "text": [
            "solution: -3*x + 3*exp(2*x) + exp(-2*x)\n"
          ]
        },
        {
          "data": {
            "text/latex": "$\\displaystyle y{\\left(x \\right)} = - 3 x + 3 e^{2 x} + e^{- 2 x}$",
            "text/plain": [
              "Eq(y(x), -3*x + 3*exp(2*x) + exp(-2*x))"
            ]
          },
          "execution_count": 32,
          "metadata": {},
          "output_type": "execute_result"
        }
      ],
      "source": [
        "solution=dsolve(eq, y,ics={y.subs(x,0):4,yp.subs(x,0):1})\n",
        "print(\"solution:\",solution.rhs)\n",
        "solution\n"
      ]
    },
    {
      "cell_type": "code",
      "execution_count": null,
      "metadata": {
        "colab": {
          "base_uri": "https://localhost:8080/",
          "height": 290
        },
        "id": "TzGUJFElHlub",
        "outputId": "9fb70843-0aa2-43c6-a701-72e2b54e267a"
      },
      "outputs": [
        {
          "data": {
            "image/png": "[encoded data removed]",
            "text/plain": [
              "<Figure size 432x288 with 1 Axes>"
            ]
          },
          "metadata": {},
          "output_type": "display_data"
        }
      ],
      "source": [
        "sol_func=lambdify(x,solution.rhs,'numpy')\n",
        "x_span = np.linspace(0, 10, 100)\n",
        "y_span=sol_func(x_span)\n",
        "plt.plot(x_span,y_span) \n",
        "plt.xlabel('x') \n",
        "plt.ylabel('y(x)') \n",
        "plt.show()"
      ]
    },
    {
      "cell_type": "markdown",
      "metadata": {
        "id": "VmOk_VQMwnJn"
      },
      "source": [
        "**Boundary Value problem:**\n",
        "Example:$$y''+y=x^2+1, y(0)= 5, y(1)=0$$"
      ]
    },
    {
      "cell_type": "code",
      "execution_count": null,
      "metadata": {
        "colab": {
          "base_uri": "https://localhost:8080/",
          "height": 57
        },
        "id": "fVaKGLcxxEje",
        "outputId": "05f9b07b-0394-40f4-a473-c82db01da60d"
      },
      "outputs": [
        {
          "data": {
            "text/latex": "$\\displaystyle y{\\left(x \\right)} = x^{2} - \\frac{6 \\sin{\\left(x \\right)} \\cos{\\left(1 \\right)}}{\\sin{\\left(1 \\right)}} + 6 \\cos{\\left(x \\right)} - 1$",
            "text/plain": [
              "Eq(y(x), x**2 - 6*sin(x)*cos(1)/sin(1) + 6*cos(x) - 1)"
            ]
          },
          "execution_count": 34,
          "metadata": {},
          "output_type": "execute_result"
        }
      ],
      "source": [
        "eq=Eq(ypp +y,x**2+1)\n",
        "solution=dsolve(eq, y,ics={y.subs(x,0):5,y.subs(x,1):0})\n",
        "solution\n",
        "\n"
      ]
    },
    {
      "cell_type": "markdown",
      "metadata": {
        "id": "EmZB8kT4gBPM"
      },
      "source": [
        "**Coupled system:** Mixing of fluid in two tanks\n",
        "\\begin{eqnarray*}\n",
        "\\frac{dx_1}{dt} &=&-\\frac{2}{25}x_1+\\frac{1}{50}x_2 \\\\\n",
        "\\frac{dx_2}{dt} &=&\\frac{2}{25}x_1-\\frac{2}{25}x_2\\\\ \n",
        "x_1(0) &=&25,x_2(0) =0\n",
        "\\end{eqnarray*}"
      ]
    },
    {
      "cell_type": "code",
      "execution_count": null,
      "metadata": {
        "colab": {
          "base_uri": "https://localhost:8080/",
          "height": 38
        },
        "id": "0TWgfCcchJbD",
        "outputId": "8ce9f536-c120-477b-a89b-f28008d9926d"
      },
      "outputs": [
        {
          "data": {
            "text/latex": "$\\displaystyle \\operatorname{x_{1}}{\\left(t \\right)} = 12.5 e^{- 0.12 t} + 12.5 e^{- 0.04 t}$",
            "text/plain": [
              "Eq(x1(t), 12.5*exp(-0.12*t) + 12.5*exp(-0.04*t))"
            ]
          },
          "execution_count": 16,
          "metadata": {},
          "output_type": "execute_result"
        }
      ],
      "source": [
        "\n",
        "\n",
        "t = symbols('t')\n",
        "x1 =Function('x1')(t)\n",
        "x2=Function('x2')(t)\n",
        "\n",
        "x1p = x1.diff(t)\n",
        "x2p = x2.diff(t)\n",
        "\n",
        "eqs=[Eq(x1p,(-2/25)*x1+(1/50)*x2),Eq(x2p,(2/25)*x1-(2/25)*x2)]\n",
        "solution=dsolve(eqs,[x1,x2],ics={x1.subs(t,0):25,x2.subs(t,0):0})\n",
        "solution[0]\n"
      ]
    },
    {
      "cell_type": "code",
      "execution_count": null,
      "metadata": {
        "colab": {
          "base_uri": "https://localhost:8080/",
          "height": 38
        },
        "id": "jIWoe8EwIqnN",
        "outputId": "bb441582-8239-49b9-9f6a-bb3f19ee0330"
      },
      "outputs": [
        {
          "data": {
            "text/latex": "$\\displaystyle \\operatorname{x_{2}}{\\left(t \\right)} = - 25.0 e^{- 0.12 t} + 25.0 e^{- 0.04 t}$",
            "text/plain": [
              "Eq(x2(t), -25.0*exp(-0.12*t) + 25.0*exp(-0.04*t))"
            ]
          },
          "execution_count": 17,
          "metadata": {},
          "output_type": "execute_result"
        }
      ],
      "source": [
        "solution[1]"
      ]
    },
    {
      "cell_type": "code",
      "execution_count": null,
      "metadata": {
        "colab": {
          "base_uri": "https://localhost:8080/",
          "height": 279
        },
        "id": "7x-Fi0yhzIoc",
        "outputId": "40bbc8b3-df17-479d-dfc2-3d2b573f7c33"
      },
      "outputs": [
        {
          "data": {
            "image/png": "[encoded data removed]",
            "text/plain": [
              "<Figure size 432x288 with 1 Axes>"
            ]
          },
          "metadata": {},
          "output_type": "display_data"
        }
      ],
      "source": [
        "t_span = np.linspace(0, 200, 100)\n",
        "\n",
        "sol_func=lambdify(t,[solution[0].rhs,solution[1].rhs],'numpy')\n",
        "y_span=sol_func(t_span)\n",
        "\n",
        "plt.plot(t_span,y_span[0],t_span,y_span[1]) \n",
        "plt.xlabel('t') \n",
        "plt.legend([\"$x_1$\", \"$x_2$\"])\n",
        "plt.show()"
      ]
    },
    {
      "cell_type": "markdown",
      "metadata": {
        "id": "8ACsDPES7kLn"
      },
      "source": [
        "A differential equation which is not solvable with dsolve:\n",
        "$$y'''-y^2=0$$"
      ]
    },
    {
      "cell_type": "code",
      "execution_count": null,
      "metadata": {
        "colab": {
          "base_uri": "https://localhost:8080/"
        },
        "id": "WYHzhm1T7CdP",
        "outputId": "55b2d4e0-6c2e-46bb-fc8f-7cfa0bc42f1f"
      },
      "outputs": [
        {
          "data": {
            "text/plain": [
              "()"
            ]
          },
          "execution_count": 20,
          "metadata": {},
          "output_type": "execute_result"
        }
      ],
      "source": [
        "eq=Eq(yppp-y**2,0)\n",
        "#dsolve(eq, y)\n",
        "classify_ode(eq, y)"
      ]
    },
    {
      "cell_type": "markdown",
      "metadata": {
        "id": "mvSfz-Jg6Uvd"
      },
      "source": [
        "### **Solving differential equation using Laplace tarnsformation**\n",
        "Consider the following problem:\n",
        "$$y''+ 5y'+ 4y= 0, y(0)= 1, y'(0)= 0$$\n"
      ]
    },
    {
      "cell_type": "code",
      "execution_count": null,
      "metadata": {
        "colab": {
          "base_uri": "https://localhost:8080/",
          "height": 56
        },
        "id": "GWHpyV2V8akb",
        "outputId": "f25ce6ab-9c1f-4f06-95ac-9ed81eada271"
      },
      "outputs": [
        {
          "data": {
            "text/latex": "$\\displaystyle \\frac{\\left(4 e^{3 t} - 1\\right) e^{- 4 t}}{3}$",
            "text/plain": [
              "(4*exp(3*t) - 1)*exp(-4*t)/3"
            ]
          },
          "execution_count": 21,
          "metadata": {},
          "output_type": "execute_result"
        }
      ],
      "source": [
        "from sympy import *\n",
        "symbolsToDelete = (t,y)\n",
        "t = symbols('t',real=true,positive=true)\n",
        "s = symbols('s')\n",
        "y = Function('y')(t)\n",
        "Y = laplace_transform(y, t, s,noconds=true)\n",
        "def LT(y):\n",
        "    return laplace_transform(y, t, s,noconds=true)\n",
        "def ILT(Y):\n",
        "    return inverse_laplace_transform(Y, s, t)\n",
        "\n",
        "\n",
        "lap_eq=Eq(s**2*LT(y)-s*(1)-0+5*s*LT(y)-5+4*LT(y),0)\n",
        "\n",
        "Inv_eq=ILT(solve(lap_eq,Y)[0])\n",
        "Inv_eq\n",
        "\n"
      ]
    },
    {
      "cell_type": "code",
      "execution_count": null,
      "metadata": {
        "colab": {
          "base_uri": "https://localhost:8080/",
          "height": 279
        },
        "id": "bJlKxCWczbMp",
        "outputId": "14b830f6-231d-42fa-a220-8c8cead5ca3c"
      },
      "outputs": [
        {
          "data": {
            "image/png": "[encoded data removed]",
            "text/plain": [
              "<Figure size 432x288 with 1 Axes>"
            ]
          },
          "metadata": {},
          "output_type": "display_data"
        }
      ],
      "source": [
        "sol_func=lambdify(t,ILT(solve(lap_eq,Y)[0]),'numpy')\n",
        "t_span = np.linspace(0, 10, 100)\n",
        "y_span=sol_func(t_span)\n",
        "\n",
        "plt.plot(t_span,y_span) \n",
        "plt.xlabel('t') \n",
        "plt.legend([\"$y(t)$\"])\n",
        "plt.show()"
      ]
    },
    {
      "cell_type": "code",
      "execution_count": null,
      "metadata": {
        "id": "mf3SBOdaQ9ms"
      },
      "outputs": [],
      "source": [
        "y.subs(t,0):1"
      ]
    },
    {
      "cell_type": "markdown",
      "metadata": {
        "id": "fHxp1Owglr7d"
      },
      "source": [
        "### **Initial value problems using scipy** \n",
        " We start with a very basic problem: Exponential decay\n",
        "\\begin{eqnarray*}\n",
        "\\frac{dy}{dx} &=&ky \\\\\n",
        "y(x_{0}) &=&y_{0},\n",
        "\\end{eqnarray*} where $k$ is a negative number.\n",
        "\n",
        "\n",
        "\n"
      ]
    },
    {
      "cell_type": "markdown",
      "metadata": {
        "id": "FvYrlVMu8pSd"
      },
      "source": [
        "**Example**\n",
        "\\begin{eqnarray*}\n",
        "\\frac{dy}{dx} &=&-0.5y \\\\\n",
        "y(0) &=&2,\n",
        "\\end{eqnarray*}"
      ]
    },
    {
      "cell_type": "code",
      "execution_count": null,
      "metadata": {
        "id": "Wu5Q_eZ0dphh"
      },
      "outputs": [],
      "source": [
        "import numpy as np\n",
        "from scipy.integrate import solve_ivp\n",
        "from matplotlib import pyplot as plt "
      ]
    },
    {
      "cell_type": "code",
      "execution_count": null,
      "metadata": {
        "colab": {
          "base_uri": "https://localhost:8080/"
        },
        "id": "YEbxSpLJwdeF",
        "outputId": "960c2d2a-b372-4cf9-9f53-1ac993619c0a"
      },
      "outputs": [
        {
          "name": "stdout",
          "output_type": "stream",
          "text": [
            "[ 0.          0.11488132  1.26369452  3.06074656  4.81637262  6.57504937\n",
            "  8.33467262 10.        ]\n",
            "[[2.         1.88835583 1.0632438  0.43316531 0.18014905 0.07480841\n",
            "  0.03105019 0.01350782]]\n"
          ]
        }
      ],
      "source": [
        "\n",
        "def exponential_decay(t, y): \n",
        "    return -0.5 * y \n",
        "sol = solve_ivp(exponential_decay, (0,10),[2])\n",
        "print(sol.t)\n",
        "print(sol.y)\n",
        "\n",
        "t_span=(0,10)\n",
        "y0=[2]\n",
        "sol1 = solve_ivp(exponential_decay,t_span,y0,dense_output=True)\n"
      ]
    },
    {
      "cell_type": "code",
      "execution_count": null,
      "metadata": {
        "colab": {
          "base_uri": "https://localhost:8080/",
          "height": 279
        },
        "id": "tKqr5SguLs4r",
        "outputId": "963d8d03-8d55-44ad-9519-b85839166bb0"
      },
      "outputs": [
        {
          "data": {
            "image/png": "[encoded data removed]",
            "text/plain": [
              "<Figure size 432x288 with 1 Axes>"
            ]
          },
          "metadata": {},
          "output_type": "display_data"
        }
      ],
      "source": [
        "plt.plot(sol1.t,sol1.y[0]) \n",
        "plt.xlabel('t') \n",
        "plt.ylabel('y(t)') \n",
        "plt.show()"
      ]
    },
    {
      "cell_type": "code",
      "execution_count": null,
      "metadata": {
        "colab": {
          "base_uri": "https://localhost:8080/",
          "height": 279
        },
        "id": "DMFGBTpKuoyG",
        "outputId": "9ef876f5-1a99-4675-d55f-1c557e8012d4"
      },
      "outputs": [
        {
          "data": {
            "image/png": "[encoded data removed]",
            "text/plain": [
              "<Figure size 432x288 with 1 Axes>"
            ]
          },
          "metadata": {},
          "output_type": "display_data"
        }
      ],
      "source": [
        "t_eval = np.linspace(0, 10, 200)\n",
        "z = sol1.sol(t_eval)\n",
        "plt.plot(t_eval,z[0]) \n",
        "plt.xlabel('t') \n",
        "plt.ylabel('y(t)') \n",
        "plt.show()"
      ]
    },
    {
      "cell_type": "code",
      "execution_count": null,
      "metadata": {
        "colab": {
          "base_uri": "https://localhost:8080/",
          "height": 279
        },
        "id": "wVmxIfig5qld",
        "outputId": "e4f533b2-bbdd-484c-a676-677d0f732963"
      },
      "outputs": [
        {
          "data": {
            "image/png": "[encoded data removed]",
            "text/plain": [
              "<Figure size 432x288 with 1 Axes>"
            ]
          },
          "metadata": {},
          "output_type": "display_data"
        }
      ],
      "source": [
        "t_span=(0,10)\n",
        "t_eval = np.linspace(0, 10, 200)\n",
        "y0=[2]\n",
        "sol = solve_ivp(exponential_decay,t_span,y0,t_eval=t_eval)\n",
        "plt.plot(sol.t,sol.y[0]) \n",
        "plt.xlabel('t') \n",
        "plt.ylabel('y(t)') \n",
        "plt.show()"
      ]
    },
    {
      "cell_type": "markdown",
      "metadata": {
        "id": "J1Gh_ypDDE7T"
      },
      "source": [
        "**Example** A second oder ivp \n",
        "\\begin{eqnarray*}\n",
        "y''+y &=&sin(x) \\\\\n",
        "y(0) &=&\\pi/2\\\\\n",
        "y'(0) &=&\\pi\\\\x\\in[0,5]\n",
        "\\end{eqnarray*}\n",
        "can be written alternatively as follows\n",
        "\\begin{eqnarray*}\n",
        "z^{'}+y &=&sin(x)\\\\\n",
        "\\end{eqnarray*}\n",
        "where\n",
        "\\begin{eqnarray*}\n",
        "z&=&y'\\\\\n",
        "y(0) &=&\\pi/2\\\\\n",
        "z(0) &=&\\pi\n",
        "\\end{eqnarray*}\n",
        "Now our problem becomes like this\n",
        "$$%\n",
        "\\begin{bmatrix}\n",
        "y \\\\ \n",
        "z%\n",
        "\\end{bmatrix}%\n",
        "^{\\prime }=%\n",
        "\\begin{bmatrix}\n",
        "z \\\\ \n",
        "\\sin x-y%\n",
        "\\end{bmatrix}%\n",
        "$$\n",
        "with initial condition\n",
        "$$%\n",
        "\\begin{bmatrix}\n",
        "y(0) \\\\ \n",
        "z(0)%\n",
        "\\end{bmatrix}%\n",
        "=%\n",
        "\\begin{bmatrix}\n",
        "\\pi/2 \\\\ \n",
        "\\pi%\n",
        "\\end{bmatrix}%\n",
        "$$\n"
      ]
    },
    {
      "cell_type": "code",
      "execution_count": null,
      "metadata": {
        "colab": {
          "base_uri": "https://localhost:8080/"
        },
        "id": "8GvXA-RyP9Pt",
        "outputId": "bab4e0b8-309b-437a-b22b-5069e0155efe"
      },
      "outputs": [
        {
          "data": {
            "text/plain": [
              "array([  1.57079633,   2.30544246,   2.91110192,   3.36327465,\n",
              "         3.64669595,   3.75482709,   3.68645689,   3.44787036,\n",
              "         3.05411   ,   2.52596135,   1.88714435,   1.1660144 ,\n",
              "         0.39493283,  -0.39304781,  -1.16399855,  -1.88483169,\n",
              "        -2.52392423,  -3.05333442,  -3.44693113,  -3.68438247,\n",
              "        -3.75281171,  -3.64657478,  -3.36389419,  -2.91116019,\n",
              "        -2.30506927,  -1.57128965,  -0.73922353,   0.15521601,\n",
              "         1.0704797 ,   1.96086216,   2.78098362,   3.48504596,\n",
              "         4.03239188,   4.38844069,   4.5267745 ,   4.42752059,\n",
              "         4.08530822,   3.51025774,   2.72419664,   1.75896141,\n",
              "         0.65918405,  -0.51826513,  -1.71111462,  -2.85239179,\n",
              "        -3.87598205,  -4.71868095,  -5.32570746,  -5.65020149,\n",
              "        -5.6607758 ,  -5.34614236,  -4.71354514,  -3.78482163,\n",
              "        -2.60107674,  -1.22396714,   0.27156806,   1.80226267,\n",
              "         3.27967441,   4.61384696,   5.72025315,   6.52324333,\n",
              "         6.9629796 ,   7.00255701,   6.62823339,   5.84498829,\n",
              "         4.68398867,   3.20574221,   1.49188105,  -0.36331025,\n",
              "        -2.25327064,  -4.06348031,  -5.68105687,  -7.00025959,\n",
              "        -7.93126084,  -8.40780849,  -8.38967084,  -7.85862062,\n",
              "        -6.83063563,  -5.35910843,  -3.52375343,  -1.4243986 ,\n",
              "         0.8190808 ,   3.07011646,   5.19115879,   7.04583981,\n",
              "         8.51396507,   9.49655938,   9.92258553,   9.74607692,\n",
              "         8.96191909,   7.60904507,   5.75823251,   3.50836409,\n",
              "         0.98772415,  -1.65022649,  -4.24586583,  -6.6357419 ,\n",
              "        -8.66899212, -10.2113948 , -11.15751498, -11.42963719,\n",
              "       -10.99703104,  -9.87722584,  -8.12396421,  -5.82809283,\n",
              "        -3.12107511,  -0.16791205,   2.85444828,   5.7596273 ,\n",
              "         8.36606039,  10.50400617,  12.0310365 ,  12.83557069,\n",
              "        12.85653086,  12.08288055,  10.54332972,   8.31388215,\n",
              "         5.52399675,   2.34343172,  -1.03982099,  -4.42040647,\n",
              "        -7.58704557, -10.33687723, -12.48907446, -13.89700746,\n",
              "       -14.4638352 , -14.14343148, -12.9323288 , -10.88762921,\n",
              "        -8.1309915 ,  -4.82517733,  -1.16381974,   2.63313933,\n",
              "         6.32644688,   9.68481589,  12.48843579,  14.55482868,\n",
              "        15.74670938,  15.97709621,  15.20706952,  13.46917852,\n",
              "        10.86727902,   7.54953394,   3.70780541,  -0.42650302,\n",
              "        -4.59355818,  -8.53432976, -11.99613821, -14.75829147,\n",
              "       -16.63921659, -17.50722092, -17.28518845, -15.97519348,\n",
              "       -13.65293263, -10.44459935,  -6.53382768,  -2.15954759,\n",
              "         2.40847855,   6.8856707 ,  10.99248396,  14.46652158,\n",
              "        17.08351179,  18.66155462,  19.08560213,  18.32159837,\n",
              "        16.40585634,  13.4341302 ,   9.57521108,   5.07007973,\n",
              "         0.19290782,  -4.75658591,  -9.47269725, -13.65311428,\n",
              "       -17.03100288, -19.37746809, -20.53492365, -20.42438142,\n",
              "       -19.03543506, -16.42845945, -12.75374906,  -8.24288736,\n",
              "        -3.16422382,   2.17413021,   7.44188109,  12.30228916,\n",
              "        16.44642022,  19.60157111,  21.56319329,  22.20166902,\n",
              "        21.45280179,  19.33981541,  15.98872956,  11.60510155,\n",
              "         6.44530924,   0.81949835,  -4.9189628 , -10.41175215,\n",
              "       -15.30639057, -19.29106635, -22.10838323, -23.56770805])"
            ]
          },
          "execution_count": 28,
          "metadata": {},
          "output_type": "execute_result"
        }
      ],
      "source": [
        "def ode_function(t, y):\n",
        "    return np.array([y[1],np.sin(t)-y[0]])\n",
        "\n",
        "t_span = (0,50)\n",
        "t_eval = np.linspace(0, 50, 200)\n",
        "y0 = np.array([np.pi /2, np.pi])\n",
        "sol = solve_ivp(ode_function,t_span,y0,t_eval=t_eval)\n",
        "sol.y[0]"
      ]
    },
    {
      "cell_type": "code",
      "execution_count": null,
      "metadata": {
        "colab": {
          "base_uri": "https://localhost:8080/",
          "height": 279
        },
        "id": "uvtKJRLqNd8t",
        "outputId": "09519909-db15-45ad-e904-85deea5ce82b"
      },
      "outputs": [
        {
          "data": {
            "image/png": "[encoded data removed]",
            "text/plain": [
              "<Figure size 432x288 with 1 Axes>"
            ]
          },
          "metadata": {},
          "output_type": "display_data"
        }
      ],
      "source": [
        "plt.plot(sol.t,sol.y[0])\n",
        "plt.xlabel('t')\n",
        "plt.ylabel('y(t)')\n",
        "plt.show()"
      ]
    },
    {
      "cell_type": "markdown",
      "metadata": {
        "id": "fq8i4Ab_mxOC"
      },
      "source": [
        "### **Boundary value problems** \n",
        "A boundary value problem (BVP) is a differential equation with a set of constraints at the boundary points. For a second oder differential equation $$\\frac{d^{2}y}{dx^{2}}=f(x,y,y^{\\prime }), x\\in[a,b]$$ \n",
        "any of the following conditions can be used for boundary conditions:\n",
        "\\begin{eqnarray}\n",
        "y(a) &=& y_0,y(b) &=& y_1 \\\\\n",
        "y'(a) &=& y_0,y'(b) &=& y_1 \\\\\n",
        "y'(a) &=& y_0,y(b) &=& y_1 \\\\\n",
        "y(a) &=& y_0,y'(b) &=& y_1 \n",
        "\\end{eqnarray} "
      ]
    },
    {
      "cell_type": "markdown",
      "metadata": {
        "id": "-5QMsk6EZZ6R"
      },
      "source": [
        "**Example:**\n",
        "$y'' + y = cos(t); y'(0) = 5; y(\\pi) = -5/3$\n"
      ]
    },
    {
      "cell_type": "code",
      "execution_count": null,
      "metadata": {
        "colab": {
          "base_uri": "https://localhost:8080/",
          "height": 279
        },
        "id": "P7GeiPbdugvr",
        "outputId": "05d57599-9bf3-4aa4-bfeb-0a56c5d241ee"
      },
      "outputs": [
        {
          "data": {
            "image/png": "[encoded data removed]",
            "text/plain": [
              "<Figure size 432x288 with 1 Axes>"
            ]
          },
          "metadata": {},
          "output_type": "display_data"
        }
      ],
      "source": [
        "from scipy.integrate import solve_bvp\n",
        "import numpy as np\n",
        "import matplotlib.pyplot as plt\n",
        "\n",
        "def ode(t,y):\n",
        "    return np.array([y[1], np.cos(t) - y[0]])\n",
        "\n",
        "def bc(ya,yb):\n",
        "\n",
        "# ya are the initial values\n",
        "# yb are the final values\n",
        "# each entry of the return array will be set to zero\n",
        "    return np.array([ya[1] - 5, yb[0] + 5/3])\n",
        "\n",
        "t_steps = 100\n",
        "t = np.linspace(0,np.pi,t_steps)\n",
        "\n",
        "# element 4: the initial guess.\n",
        "y0 = np.zeros((2,t_steps))\n",
        "\n",
        "# Solve the system.\n",
        "sol = solve_bvp(ode, bc, t, y0)\n",
        "\n",
        "# here we plot sol.x instead of sol.t\n",
        "plt.plot(sol.x, sol.y[0])\n",
        "plt.xlabel('t')\n",
        "plt.ylabel('y(t)')\n",
        "plt.show()"
      ]
    }
  ],
  "metadata": {
    "colab": {
      "provenance": []
    },
    "kernelspec": {
      "display_name": "Python 3",
      "name": "python3"
    },
    "language_info": {
      "name": "python"
    }
  },
  "nbformat": 4,
  "nbformat_minor": 0
}